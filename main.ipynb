{
 "cells": [
  {
   "cell_type": "code",
   "execution_count": 9,
   "metadata": {},
   "outputs": [],
   "source": [
    "import math\n",
    "import numpy as np\n",
    "import matplotlib.pyplot as plt\n",
    "%matplotlib inline"
   ]
  },
  {
   "cell_type": "code",
   "execution_count": 10,
   "metadata": {},
   "outputs": [],
   "source": [
    "def f(x):\n",
    "    return 3*x**2 + 2*x + 1"
   ]
  },
  {
   "cell_type": "code",
   "execution_count": 11,
   "metadata": {},
   "outputs": [
    {
     "data": {
      "text/plain": [
       "34.0"
      ]
     },
     "execution_count": 11,
     "metadata": {},
     "output_type": "execute_result"
    }
   ],
   "source": [
    "f(3.0)"
   ]
  },
  {
   "cell_type": "code",
   "execution_count": 12,
   "metadata": {},
   "outputs": [
    {
     "data": {
      "image/png": "[encoded data removed]",
      "text/plain": [
       "<Figure size 640x480 with 1 Axes>"
      ]
     },
     "metadata": {},
     "output_type": "display_data"
    }
   ],
   "source": [
    "xs = np.arange(-5, 5, 0.5)\n",
    "ys = f(xs)\n",
    "plt.plot(xs, ys)\n",
    "plt.show()"
   ]
  },
  {
   "cell_type": "code",
   "execution_count": 13,
   "metadata": {},
   "outputs": [
    {
     "data": {
      "text/plain": [
       "20.00000023372195"
      ]
     },
     "execution_count": 13,
     "metadata": {},
     "output_type": "execute_result"
    }
   ],
   "source": [
    "h = 0.00000001\n",
    "x = 3.0\n",
    "(f(x + h) - f(x))/h"
   ]
  },
  {
   "cell_type": "code",
   "execution_count": 14,
   "metadata": {},
   "outputs": [
    {
     "name": "stdout",
     "output_type": "stream",
     "text": [
      "hello world\n"
     ]
    }
   ],
   "source": [
    "print(\"hello world\")"
   ]
  },
  {
   "cell_type": "code",
   "execution_count": 15,
   "metadata": {},
   "outputs": [
    {
     "name": "stdout",
     "output_type": "stream",
     "text": [
      "d1 4.0\n",
      "d2 3.99999997\n",
      "slope -2.999999981767587\n"
     ]
    }
   ],
   "source": [
    "#lets get more complex\n",
    "\n",
    "#inputs\n",
    "a = 2.0\n",
    "b = -3.0\n",
    "c = 10.0\n",
    "\n",
    "\n",
    "d1 = a*b + c\n",
    "a += h\n",
    "d2 = a*b + c\n",
    "\n",
    "print('d1', d1)\n",
    "print('d2', d2)\n",
    "print('slope', (d2-d1)/h)"
   ]
  },
  {
   "cell_type": "code",
   "execution_count": 62,
   "metadata": {},
   "outputs": [
    {
     "data": {
      "text/plain": [
       "Value(data=-8.0)"
      ]
     },
     "execution_count": 62,
     "metadata": {},
     "output_type": "execute_result"
    }
   ],
   "source": [
    "class Value:\n",
    "    def __init__(self, data, _children=(), _op='', label=''):\n",
    "        self.data = data\n",
    "        self._prev = set(_children)\n",
    "        self._op = _op\n",
    "        self.label = label\n",
    "\n",
    "    def __repr__(self):\n",
    "        return f\"Value(data={self.data})\"\n",
    "\n",
    "    def __add__(self, other):\n",
    "        out = Value(self.data + other.data, (self, other), '+')\n",
    "        return out\n",
    "\n",
    "    def __mul__(self, other):\n",
    "        out = Value(self.data * other.data, (self, other), '*')\n",
    "        return out\n",
    "\n",
    "a = Value(2.0, label='a')\n",
    "b = Value(-3.0, label='b')\n",
    "c = Value(10.0, label='c')\n",
    "d = a*b; d.label = 'd'\n",
    "e = d + c; e.label = 'e'\n",
    "f = Value(-2.0, label = 'f')\n",
    "L = e * f; L.label = 'L'\n",
    "L"
   ]
  },
  {
   "cell_type": "code",
   "execution_count": 63,
   "metadata": {},
   "outputs": [],
   "source": [
    "from graphviz import Digraph\n",
    "\n",
    "def trace(root):\n",
    "    nodes, edges = set(), set()\n",
    "    def build(v):\n",
    "        if v not in nodes:\n",
    "            nodes.add(v)\n",
    "            for child in v._prev:\n",
    "                edges.add((child, v))\n",
    "                build(child)\n",
    "    build(root)\n",
    "    return nodes, edges\n",
    "\n",
    "def draw_dot(root):\n",
    "    dot = Digraph(format = 'svg', graph_attr={'rankdir': 'LR'})\n",
    "\n",
    "    nodes, edges = trace(root)\n",
    "    for n in nodes:\n",
    "        uid = str(id(n))\n",
    "        #for any value in the graph, create a rectangular ('record') node for it\n",
    "        dot.node(name = uid, label = \"{ %s | data %.4f }\" % (n.label, n.data), shape='record')\n",
    "        if n._op:\n",
    "            dot.node(name = uid + n._op, label = n._op)\n",
    "            dot.edge(uid + n._op, uid)\n",
    "    \n",
    "    for n1, n2 in edges:\n",
    "        dot.edge(str(id(n1)), str(id(n2)) + n2._op)\n",
    "\n",
    "    return dot"
   ]
  },
  {
   "cell_type": "code",
   "execution_count": 64,
   "metadata": {},
   "outputs": [
    {
     "data": {
      "image/svg+xml": [
       "<?xml version=\"1.0\" encoding=\"UTF-8\" standalone=\"no\"?>\n",
       "<!DOCTYPE svg PUBLIC \"-//W3C//DTD SVG 1.1//EN\"\n",
       " \"http://www.w3.org/Graphics/SVG/1.1/DTD/svg11.dtd\">\n",
       "<!-- Generated by graphviz version 12.2.1 (20241206.2353)\n",
       " -->\n",
       "<!-- Pages: 1 -->\n",
       "<svg width=\"815pt\" height=\"128pt\"\n",
       " viewBox=\"0.00 0.00 814.75 128.00\" xmlns=\"http://www.w3.org/2000/svg\" xmlns:xlink=\"http://www.w3.org/1999/xlink\">\n",
       "<g id=\"graph0\" class=\"graph\" transform=\"scale(1 1) rotate(0) translate(4 124)\">\n",
       "<polygon fill=\"white\" stroke=\"none\" points=\"-4,4 -4,-124 810.75,-124 810.75,4 -4,4\"/>\n",
       "<!-- 4566289936 -->\n",
       "<g id=\"node1\" class=\"node\">\n",
       "<title>4566289936</title>\n",
       "<polygon fill=\"none\" stroke=\"black\" points=\"233,-83.5 233,-119.5 341.5,-119.5 341.5,-83.5 233,-83.5\"/>\n",
       "<text text-anchor=\"middle\" x=\"244\" y=\"-96.7\" font-family=\"Times,serif\" font-size=\"14.00\">c</text>\n",
       "<polyline fill=\"none\" stroke=\"black\" points=\"255,-84 255,-119.5\"/>\n",
       "<text text-anchor=\"middle\" x=\"298.25\" y=\"-96.7\" font-family=\"Times,serif\" font-size=\"14.00\">data 10.0000</text>\n",
       "</g>\n",
       "<!-- 4566305536+ -->\n",
       "<g id=\"node8\" class=\"node\">\n",
       "<title>4566305536+</title>\n",
       "<ellipse fill=\"none\" stroke=\"black\" cx=\"404.5\" cy=\"-73.5\" rx=\"27\" ry=\"18\"/>\n",
       "<text text-anchor=\"middle\" x=\"404.5\" y=\"-68.45\" font-family=\"Times,serif\" font-size=\"14.00\">+</text>\n",
       "</g>\n",
       "<!-- 4566289936&#45;&gt;4566305536+ -->\n",
       "<g id=\"edge5\" class=\"edge\">\n",
       "<title>4566289936&#45;&gt;4566305536+</title>\n",
       "<path fill=\"none\" stroke=\"black\" d=\"M341.83,-88.48C350.54,-86.37 359.37,-84.22 367.53,-82.24\"/>\n",
       "<polygon fill=\"black\" stroke=\"black\" points=\"368.16,-85.69 377.05,-79.93 366.51,-78.89 368.16,-85.69\"/>\n",
       "</g>\n",
       "<!-- 4419842624 -->\n",
       "<g id=\"node2\" class=\"node\">\n",
       "<title>4419842624</title>\n",
       "<polygon fill=\"none\" stroke=\"black\" points=\"698.25,-27.5 698.25,-63.5 806.75,-63.5 806.75,-27.5 698.25,-27.5\"/>\n",
       "<text text-anchor=\"middle\" x=\"710.38\" y=\"-40.7\" font-family=\"Times,serif\" font-size=\"14.00\">L</text>\n",
       "<polyline fill=\"none\" stroke=\"black\" points=\"722.5,-28 722.5,-63.5\"/>\n",
       "<text text-anchor=\"middle\" x=\"764.62\" y=\"-40.7\" font-family=\"Times,serif\" font-size=\"14.00\">data &#45;8.0000</text>\n",
       "</g>\n",
       "<!-- 4419842624* -->\n",
       "<g id=\"node3\" class=\"node\">\n",
       "<title>4419842624*</title>\n",
       "<ellipse fill=\"none\" stroke=\"black\" cx=\"635.25\" cy=\"-45.5\" rx=\"27\" ry=\"18\"/>\n",
       "<text text-anchor=\"middle\" x=\"635.25\" y=\"-40.45\" font-family=\"Times,serif\" font-size=\"14.00\">*</text>\n",
       "</g>\n",
       "<!-- 4419842624*&#45;&gt;4419842624 -->\n",
       "<g id=\"edge1\" class=\"edge\">\n",
       "<title>4419842624*&#45;&gt;4419842624</title>\n",
       "<path fill=\"none\" stroke=\"black\" d=\"M662.69,-45.5C669.91,-45.5 678.06,-45.5 686.43,-45.5\"/>\n",
       "<polygon fill=\"black\" stroke=\"black\" points=\"686.39,-49 696.39,-45.5 686.39,-42 686.39,-49\"/>\n",
       "</g>\n",
       "<!-- 4418627168 -->\n",
       "<g id=\"node4\" class=\"node\">\n",
       "<title>4418627168</title>\n",
       "<polygon fill=\"none\" stroke=\"black\" points=\"2.62,-56.5 2.62,-92.5 104.38,-92.5 104.38,-56.5 2.62,-56.5\"/>\n",
       "<text text-anchor=\"middle\" x=\"13.62\" y=\"-69.7\" font-family=\"Times,serif\" font-size=\"14.00\">a</text>\n",
       "<polyline fill=\"none\" stroke=\"black\" points=\"24.62,-57 24.62,-92.5\"/>\n",
       "<text text-anchor=\"middle\" x=\"64.5\" y=\"-69.7\" font-family=\"Times,serif\" font-size=\"14.00\">data 2.0000</text>\n",
       "</g>\n",
       "<!-- 4566305232* -->\n",
       "<g id=\"node10\" class=\"node\">\n",
       "<title>4566305232*</title>\n",
       "<ellipse fill=\"none\" stroke=\"black\" cx=\"170\" cy=\"-46.5\" rx=\"27\" ry=\"18\"/>\n",
       "<text text-anchor=\"middle\" x=\"170\" y=\"-41.45\" font-family=\"Times,serif\" font-size=\"14.00\">*</text>\n",
       "</g>\n",
       "<!-- 4418627168&#45;&gt;4566305232* -->\n",
       "<g id=\"edge8\" class=\"edge\">\n",
       "<title>4418627168&#45;&gt;4566305232*</title>\n",
       "<path fill=\"none\" stroke=\"black\" d=\"M104.72,-62.22C114.35,-59.86 124.26,-57.44 133.32,-55.23\"/>\n",
       "<polygon fill=\"black\" stroke=\"black\" points=\"133.9,-58.69 142.78,-52.91 132.24,-51.89 133.9,-58.69\"/>\n",
       "</g>\n",
       "<!-- 4566289616 -->\n",
       "<g id=\"node5\" class=\"node\">\n",
       "<title>4566289616</title>\n",
       "<polygon fill=\"none\" stroke=\"black\" points=\"0,-1.5 0,-37.5 107,-37.5 107,-1.5 0,-1.5\"/>\n",
       "<text text-anchor=\"middle\" x=\"11.38\" y=\"-14.7\" font-family=\"Times,serif\" font-size=\"14.00\">b</text>\n",
       "<polyline fill=\"none\" stroke=\"black\" points=\"22.75,-2 22.75,-37.5\"/>\n",
       "<text text-anchor=\"middle\" x=\"64.88\" y=\"-14.7\" font-family=\"Times,serif\" font-size=\"14.00\">data &#45;3.0000</text>\n",
       "</g>\n",
       "<!-- 4566289616&#45;&gt;4566305232* -->\n",
       "<g id=\"edge4\" class=\"edge\">\n",
       "<title>4566289616&#45;&gt;4566305232*</title>\n",
       "<path fill=\"none\" stroke=\"black\" d=\"M107.39,-31.97C116.08,-34.02 124.89,-36.1 133.04,-38.02\"/>\n",
       "<polygon fill=\"black\" stroke=\"black\" points=\"132.01,-41.37 142.55,-40.26 133.62,-34.56 132.01,-41.37\"/>\n",
       "</g>\n",
       "<!-- 4420350704 -->\n",
       "<g id=\"node6\" class=\"node\">\n",
       "<title>4420350704</title>\n",
       "<polygon fill=\"none\" stroke=\"black\" points=\"467.5,-0.5 467.5,-36.5 572.25,-36.5 572.25,-0.5 467.5,-0.5\"/>\n",
       "<text text-anchor=\"middle\" x=\"477.75\" y=\"-13.7\" font-family=\"Times,serif\" font-size=\"14.00\">f</text>\n",
       "<polyline fill=\"none\" stroke=\"black\" points=\"488,-1 488,-36.5\"/>\n",
       "<text text-anchor=\"middle\" x=\"530.12\" y=\"-13.7\" font-family=\"Times,serif\" font-size=\"14.00\">data &#45;2.0000</text>\n",
       "</g>\n",
       "<!-- 4420350704&#45;&gt;4419842624* -->\n",
       "<g id=\"edge6\" class=\"edge\">\n",
       "<title>4420350704&#45;&gt;4419842624*</title>\n",
       "<path fill=\"none\" stroke=\"black\" d=\"M572.59,-30.81C581.32,-32.89 590.21,-35.01 598.42,-36.97\"/>\n",
       "<polygon fill=\"black\" stroke=\"black\" points=\"597.48,-40.34 608.02,-39.25 599.1,-33.53 597.48,-40.34\"/>\n",
       "</g>\n",
       "<!-- 4566305536 -->\n",
       "<g id=\"node7\" class=\"node\">\n",
       "<title>4566305536</title>\n",
       "<polygon fill=\"none\" stroke=\"black\" points=\"469,-55.5 469,-91.5 570.75,-91.5 570.75,-55.5 469,-55.5\"/>\n",
       "<text text-anchor=\"middle\" x=\"480\" y=\"-68.7\" font-family=\"Times,serif\" font-size=\"14.00\">e</text>\n",
       "<polyline fill=\"none\" stroke=\"black\" points=\"491,-56 491,-91.5\"/>\n",
       "<text text-anchor=\"middle\" x=\"530.88\" y=\"-68.7\" font-family=\"Times,serif\" font-size=\"14.00\">data 4.0000</text>\n",
       "</g>\n",
       "<!-- 4566305536&#45;&gt;4419842624* -->\n",
       "<g id=\"edge7\" class=\"edge\">\n",
       "<title>4566305536&#45;&gt;4419842624*</title>\n",
       "<path fill=\"none\" stroke=\"black\" d=\"M570.93,-61.14C580.25,-58.84 589.82,-56.47 598.6,-54.3\"/>\n",
       "<polygon fill=\"black\" stroke=\"black\" points=\"599.26,-57.75 608.13,-51.95 597.58,-50.95 599.26,-57.75\"/>\n",
       "</g>\n",
       "<!-- 4566305536+&#45;&gt;4566305536 -->\n",
       "<g id=\"edge2\" class=\"edge\">\n",
       "<title>4566305536+&#45;&gt;4566305536</title>\n",
       "<path fill=\"none\" stroke=\"black\" d=\"M431.8,-73.5C439.52,-73.5 448.32,-73.5 457.28,-73.5\"/>\n",
       "<polygon fill=\"black\" stroke=\"black\" points=\"457.14,-77 467.14,-73.5 457.14,-70 457.14,-77\"/>\n",
       "</g>\n",
       "<!-- 4566305232 -->\n",
       "<g id=\"node9\" class=\"node\">\n",
       "<title>4566305232</title>\n",
       "<polygon fill=\"none\" stroke=\"black\" points=\"233.75,-28.5 233.75,-64.5 340.75,-64.5 340.75,-28.5 233.75,-28.5\"/>\n",
       "<text text-anchor=\"middle\" x=\"245.12\" y=\"-41.7\" font-family=\"Times,serif\" font-size=\"14.00\">d</text>\n",
       "<polyline fill=\"none\" stroke=\"black\" points=\"256.5,-29 256.5,-64.5\"/>\n",
       "<text text-anchor=\"middle\" x=\"298.62\" y=\"-41.7\" font-family=\"Times,serif\" font-size=\"14.00\">data &#45;6.0000</text>\n",
       "</g>\n",
       "<!-- 4566305232&#45;&gt;4566305536+ -->\n",
       "<g id=\"edge9\" class=\"edge\">\n",
       "<title>4566305232&#45;&gt;4566305536+</title>\n",
       "<path fill=\"none\" stroke=\"black\" d=\"M341.15,-58.89C350,-60.97 359,-63.07 367.3,-65.02\"/>\n",
       "<polygon fill=\"black\" stroke=\"black\" points=\"366.49,-68.42 377.02,-67.3 368.09,-61.61 366.49,-68.42\"/>\n",
       "</g>\n",
       "<!-- 4566305232*&#45;&gt;4566305232 -->\n",
       "<g id=\"edge3\" class=\"edge\">\n",
       "<title>4566305232*&#45;&gt;4566305232</title>\n",
       "<path fill=\"none\" stroke=\"black\" d=\"M197.44,-46.5C204.93,-46.5 213.42,-46.5 222.11,-46.5\"/>\n",
       "<polygon fill=\"black\" stroke=\"black\" points=\"222.07,-50 232.07,-46.5 222.07,-43 222.07,-50\"/>\n",
       "</g>\n",
       "</g>\n",
       "</svg>\n"
      ],
      "text/plain": [
       "<graphviz.graphs.Digraph at 0x1102d1fd0>"
      ]
     },
     "execution_count": 64,
     "metadata": {},
     "output_type": "execute_result"
    }
   ],
   "source": [
    "draw_dot(L)"
   ]
  },
  {
   "cell_type": "code",
   "execution_count": null,
   "metadata": {},
   "outputs": [],
   "source": []
  },
  {
   "cell_type": "code",
   "execution_count": null,
   "metadata": {},
   "outputs": [],
   "source": []
  },
  {
   "cell_type": "code",
   "execution_count": null,
   "metadata": {},
   "outputs": [],
   "source": []
  }
 ],
 "metadata": {
  "kernelspec": {
   "display_name": "Python 3 (ipykernel)",
   "language": "python",
   "name": "python3"
  },
  "language_info": {
   "codemirror_mode": {
    "name": "ipython",
    "version": 3
   },
   "file_extension": ".py",
   "mimetype": "text/x-python",
   "name": "python",
   "nbconvert_exporter": "python",
   "pygments_lexer": "ipython3",
   "version": "3.13.2"
  }
 },
 "nbformat": 4,
 "nbformat_minor": 4
}
